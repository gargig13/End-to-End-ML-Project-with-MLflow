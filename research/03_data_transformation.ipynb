{
 "cells": [
  {
   "cell_type": "code",
   "execution_count": 1,
   "id": "8299f606",
   "metadata": {},
   "outputs": [],
   "source": [
    "import os"
   ]
  },
  {
   "cell_type": "code",
   "execution_count": 2,
   "id": "ccc42958",
   "metadata": {},
   "outputs": [
    {
     "data": {
      "text/plain": [
       "'d:\\\\SEM - 4\\\\Projects\\\\End-to-End-ML-Project-with-MLflow\\\\research'"
      ]
     },
     "execution_count": 2,
     "metadata": {},
     "output_type": "execute_result"
    }
   ],
   "source": [
    "%pwd"
   ]
  },
  {
   "cell_type": "code",
   "execution_count": 3,
   "id": "32645a67",
   "metadata": {},
   "outputs": [],
   "source": [
    "os.chdir(\"../\")"
   ]
  },
  {
   "cell_type": "code",
   "execution_count": 4,
   "id": "ba481a39",
   "metadata": {},
   "outputs": [
    {
     "data": {
      "text/plain": [
       "'d:\\\\SEM - 4\\\\Projects\\\\End-to-End-ML-Project-with-MLflow'"
      ]
     },
     "execution_count": 4,
     "metadata": {},
     "output_type": "execute_result"
    }
   ],
   "source": [
    "%pwd"
   ]
  },
  {
   "cell_type": "code",
   "execution_count": 5,
   "id": "7392f618",
   "metadata": {},
   "outputs": [],
   "source": [
    "from dataclasses import dataclass\n",
    "from pathlib import Path\n",
    "\n",
    "\n",
    "@dataclass(frozen=True)\n",
    "class DataTransformationConfig:\n",
    "    root_dir: Path\n",
    "    data_path: Path"
   ]
  },
  {
   "cell_type": "code",
   "execution_count": 7,
   "id": "dd95027c",
   "metadata": {},
   "outputs": [],
   "source": [
    "from MLflowProject.constants import *\n",
    "from MLflowProject.utils.common import read_yaml, create_directories"
   ]
  },
  {
   "cell_type": "code",
   "execution_count": 8,
   "id": "f0dd692e",
   "metadata": {},
   "outputs": [],
   "source": [
    "class ConfigurationManager:\n",
    "    def __init__(\n",
    "        self,\n",
    "        config_filepath = CONFIG_FILE_PATH,\n",
    "        params_filepath = PARAMS_FILE_PATH,\n",
    "        schema_filepath = SCHEMA_FILE_PATH):\n",
    "\n",
    "        self.config = read_yaml(config_filepath)\n",
    "        self.params = read_yaml(params_filepath)\n",
    "        self.schema = read_yaml(schema_filepath)\n",
    "\n",
    "        create_directories([self.config.artifacts_root])\n",
    "\n",
    "\n",
    "    \n",
    "    def get_data_transformation_config(self) -> DataTransformationConfig:\n",
    "        config = self.config.data_transformation\n",
    "\n",
    "        create_directories([config.root_dir])\n",
    "\n",
    "        data_transformation_config = DataTransformationConfig(\n",
    "            root_dir=config.root_dir,\n",
    "            data_path=config.data_path,\n",
    "        )\n",
    "\n",
    "        return data_transformation_config"
   ]
  },
  {
   "cell_type": "code",
   "execution_count": 12,
   "id": "d3e1327d",
   "metadata": {},
   "outputs": [
    {
     "name": "stdout",
     "output_type": "stream",
     "text": [
      "Collecting scikit-learnNote: you may need to restart the kernel to use updated packages.\n",
      "\n",
      "  Downloading scikit_learn-1.3.2-cp38-cp38-win_amd64.whl.metadata (11 kB)\n",
      "Requirement already satisfied: numpy<2.0,>=1.17.3 in d:\\anaconda\\envs\\mlproj\\lib\\site-packages (from scikit-learn) (1.24.4)\n",
      "Collecting scipy>=1.5.0 (from scikit-learn)\n",
      "  Downloading scipy-1.10.1-cp38-cp38-win_amd64.whl.metadata (58 kB)\n",
      "Requirement already satisfied: joblib>=1.1.1 in d:\\anaconda\\envs\\mlproj\\lib\\site-packages (from scikit-learn) (1.4.2)\n",
      "Collecting threadpoolctl>=2.0.0 (from scikit-learn)\n",
      "  Downloading threadpoolctl-3.5.0-py3-none-any.whl.metadata (13 kB)\n",
      "Downloading scikit_learn-1.3.2-cp38-cp38-win_amd64.whl (9.3 MB)\n",
      "   ---------------------------------------- 0.0/9.3 MB ? eta -:--:--\n",
      "   -- ------------------------------------- 0.5/9.3 MB 4.2 MB/s eta 0:00:03\n",
      "   ------------ --------------------------- 2.9/9.3 MB 11.2 MB/s eta 0:00:01\n",
      "   ---------------------- ----------------- 5.2/9.3 MB 10.6 MB/s eta 0:00:01\n",
      "   ------------------------ --------------- 5.8/9.3 MB 8.4 MB/s eta 0:00:01\n",
      "   ------------------------------ --------- 7.1/9.3 MB 7.5 MB/s eta 0:00:01\n",
      "   -------------------------------- ------- 7.6/9.3 MB 7.6 MB/s eta 0:00:01\n",
      "   ---------------------------------------  9.2/9.3 MB 6.8 MB/s eta 0:00:01\n",
      "   ---------------------------------------- 9.3/9.3 MB 6.4 MB/s eta 0:00:00\n",
      "Downloading scipy-1.10.1-cp38-cp38-win_amd64.whl (42.2 MB)\n",
      "   ---------------------------------------- 0.0/42.2 MB ? eta -:--:--\n",
      "   - -------------------------------------- 1.3/42.2 MB 9.6 MB/s eta 0:00:05\n",
      "   -- ------------------------------------- 2.6/42.2 MB 6.9 MB/s eta 0:00:06\n",
      "   --- ------------------------------------ 3.4/42.2 MB 5.8 MB/s eta 0:00:07\n",
      "   --- ------------------------------------ 3.7/42.2 MB 5.1 MB/s eta 0:00:08\n",
      "   --- ------------------------------------ 4.2/42.2 MB 4.1 MB/s eta 0:00:10\n",
      "   ---- ----------------------------------- 4.7/42.2 MB 3.7 MB/s eta 0:00:11\n",
      "   ---- ----------------------------------- 5.0/42.2 MB 3.6 MB/s eta 0:00:11\n",
      "   ----- ---------------------------------- 5.5/42.2 MB 3.3 MB/s eta 0:00:12\n",
      "   ----- ---------------------------------- 6.0/42.2 MB 3.2 MB/s eta 0:00:12\n",
      "   ------ --------------------------------- 6.6/42.2 MB 3.1 MB/s eta 0:00:12\n",
      "   ------ --------------------------------- 7.1/42.2 MB 3.0 MB/s eta 0:00:12\n",
      "   ------- -------------------------------- 7.6/42.2 MB 2.9 MB/s eta 0:00:12\n",
      "   ------- -------------------------------- 7.9/42.2 MB 2.9 MB/s eta 0:00:12\n",
      "   ------- -------------------------------- 8.4/42.2 MB 2.8 MB/s eta 0:00:12\n",
      "   -------- ------------------------------- 8.9/42.2 MB 2.8 MB/s eta 0:00:12\n",
      "   -------- ------------------------------- 9.4/42.2 MB 2.7 MB/s eta 0:00:12\n",
      "   --------- ------------------------------ 10.0/42.2 MB 2.7 MB/s eta 0:00:12\n",
      "   --------- ------------------------------ 10.5/42.2 MB 2.7 MB/s eta 0:00:12\n",
      "   ---------- ----------------------------- 11.0/42.2 MB 2.7 MB/s eta 0:00:12\n",
      "   ---------- ----------------------------- 11.5/42.2 MB 2.7 MB/s eta 0:00:12\n",
      "   ----------- ---------------------------- 12.1/42.2 MB 2.6 MB/s eta 0:00:12\n",
      "   ----------- ---------------------------- 12.6/42.2 MB 2.6 MB/s eta 0:00:12\n",
      "   ------------ --------------------------- 13.1/42.2 MB 2.6 MB/s eta 0:00:12\n",
      "   ------------ --------------------------- 13.6/42.2 MB 2.6 MB/s eta 0:00:11\n",
      "   ------------- -------------------------- 14.4/42.2 MB 2.6 MB/s eta 0:00:11\n",
      "   -------------- ------------------------- 14.9/42.2 MB 2.6 MB/s eta 0:00:11\n",
      "   -------------- ------------------------- 15.5/42.2 MB 2.6 MB/s eta 0:00:11\n",
      "   --------------- ------------------------ 16.0/42.2 MB 2.6 MB/s eta 0:00:10\n",
      "   --------------- ------------------------ 16.8/42.2 MB 2.6 MB/s eta 0:00:10\n",
      "   ---------------- ----------------------- 17.3/42.2 MB 2.7 MB/s eta 0:00:10\n",
      "   ---------------- ----------------------- 17.8/42.2 MB 2.7 MB/s eta 0:00:10\n",
      "   ----------------- ---------------------- 18.6/42.2 MB 2.7 MB/s eta 0:00:09\n",
      "   ------------------ --------------------- 19.1/42.2 MB 2.7 MB/s eta 0:00:09\n",
      "   ------------------ --------------------- 19.9/42.2 MB 2.7 MB/s eta 0:00:09\n",
      "   ------------------- -------------------- 20.4/42.2 MB 2.7 MB/s eta 0:00:09\n",
      "   -------------------- ------------------- 21.2/42.2 MB 2.7 MB/s eta 0:00:08\n",
      "   -------------------- ------------------- 22.0/42.2 MB 2.7 MB/s eta 0:00:08\n",
      "   --------------------- ------------------ 22.5/42.2 MB 2.7 MB/s eta 0:00:08\n",
      "   ---------------------- ----------------- 23.3/42.2 MB 2.7 MB/s eta 0:00:07\n",
      "   ---------------------- ----------------- 24.1/42.2 MB 2.8 MB/s eta 0:00:07\n",
      "   ----------------------- ---------------- 24.6/42.2 MB 2.8 MB/s eta 0:00:07\n",
      "   ------------------------ --------------- 25.4/42.2 MB 2.8 MB/s eta 0:00:07\n",
      "   ------------------------ --------------- 26.2/42.2 MB 2.8 MB/s eta 0:00:06\n",
      "   ------------------------- -------------- 27.0/42.2 MB 2.8 MB/s eta 0:00:06\n",
      "   -------------------------- ------------- 27.8/42.2 MB 2.8 MB/s eta 0:00:06\n",
      "   --------------------------- ------------ 28.6/42.2 MB 2.8 MB/s eta 0:00:05\n",
      "   --------------------------- ------------ 29.4/42.2 MB 2.9 MB/s eta 0:00:05\n",
      "   ---------------------------- ----------- 30.1/42.2 MB 2.9 MB/s eta 0:00:05\n",
      "   ----------------------------- ---------- 31.2/42.2 MB 2.9 MB/s eta 0:00:04\n",
      "   ------------------------------ --------- 32.0/42.2 MB 2.9 MB/s eta 0:00:04\n",
      "   ------------------------------- -------- 33.0/42.2 MB 3.0 MB/s eta 0:00:04\n",
      "   -------------------------------- ------- 34.1/42.2 MB 3.0 MB/s eta 0:00:03\n",
      "   --------------------------------- ------ 35.4/42.2 MB 3.1 MB/s eta 0:00:03\n",
      "   ---------------------------------- ----- 36.4/42.2 MB 3.1 MB/s eta 0:00:02\n",
      "   ----------------------------------- ---- 37.7/42.2 MB 3.1 MB/s eta 0:00:02\n",
      "   ------------------------------------- -- 39.1/42.2 MB 3.2 MB/s eta 0:00:01\n",
      "   -------------------------------------- - 40.4/42.2 MB 3.2 MB/s eta 0:00:01\n",
      "   ---------------------------------------  41.9/42.2 MB 3.3 MB/s eta 0:00:01\n",
      "   ---------------------------------------  42.2/42.2 MB 3.3 MB/s eta 0:00:01\n",
      "   ---------------------------------------- 42.2/42.2 MB 3.2 MB/s eta 0:00:00\n",
      "Downloading threadpoolctl-3.5.0-py3-none-any.whl (18 kB)\n",
      "Installing collected packages: threadpoolctl, scipy, scikit-learn\n",
      "Successfully installed scikit-learn-1.3.2 scipy-1.10.1 threadpoolctl-3.5.0\n"
     ]
    }
   ],
   "source": [
    "pip install scikit-learn"
   ]
  },
  {
   "cell_type": "code",
   "execution_count": 13,
   "id": "74219bca",
   "metadata": {},
   "outputs": [],
   "source": [
    "import os\n",
    "from MLflowProject import logger\n",
    "from sklearn.model_selection import train_test_split\n",
    "import pandas as pd"
   ]
  },
  {
   "cell_type": "code",
   "execution_count": 14,
   "id": "53bbec04",
   "metadata": {},
   "outputs": [],
   "source": [
    "class DataTransformation:\n",
    "    def __init__(self, config: DataTransformationConfig):\n",
    "        self.config = config\n",
    "\n",
    "    def train_test_spliting(self):\n",
    "        data = pd.read_csv(self.config.data_path)\n",
    "\n",
    "        # Split the data into training and test sets. (0.75, 0.25) split.\n",
    "        train, test = train_test_split(data)\n",
    "\n",
    "        train.to_csv(os.path.join(self.config.root_dir, \"train.csv\"),index = False)\n",
    "        test.to_csv(os.path.join(self.config.root_dir, \"test.csv\"),index = False)\n",
    "\n",
    "        logger.info(\"Splited data into training and test sets\")\n",
    "        logger.info(train.shape)\n",
    "        logger.info(test.shape)\n",
    "\n",
    "        print(train.shape)\n",
    "        print(test.shape)\n",
    "        "
   ]
  },
  {
   "cell_type": "code",
   "execution_count": 15,
   "id": "6308b7d1",
   "metadata": {},
   "outputs": [
    {
     "name": "stdout",
     "output_type": "stream",
     "text": [
      "[2025-08-20 23:55:43,585: INFO: common: yaml file: config\\config.yaml loaded successfully]\n",
      "[2025-08-20 23:55:43,589: INFO: common: yaml file: params.yaml loaded successfully]\n",
      "[2025-08-20 23:55:43,601: INFO: common: yaml file: schema.yaml loaded successfully]\n",
      "[2025-08-20 23:55:43,605: INFO: common: created directory at: artifacts]\n",
      "[2025-08-20 23:55:43,608: INFO: common: created directory at: artifacts/data_transformation]\n",
      "[2025-08-20 23:55:43,687: INFO: 3699021339: Splited data into training and test sets]\n",
      "[2025-08-20 23:55:43,688: INFO: 3699021339: (1199, 12)]\n",
      "[2025-08-20 23:55:43,690: INFO: 3699021339: (400, 12)]\n",
      "(1199, 12)\n",
      "(400, 12)\n"
     ]
    }
   ],
   "source": [
    "try:\n",
    "    config = ConfigurationManager()\n",
    "    data_transformation_config = config.get_data_transformation_config()\n",
    "    data_transformation = DataTransformation(config=data_transformation_config)\n",
    "    data_transformation.train_test_spliting()\n",
    "except Exception as e:\n",
    "    raise e"
   ]
  },
  {
   "cell_type": "code",
   "execution_count": null,
   "id": "43dc1325",
   "metadata": {},
   "outputs": [],
   "source": []
  }
 ],
 "metadata": {
  "kernelspec": {
   "display_name": "mlproj",
   "language": "python",
   "name": "python3"
  },
  "language_info": {
   "codemirror_mode": {
    "name": "ipython",
    "version": 3
   },
   "file_extension": ".py",
   "mimetype": "text/x-python",
   "name": "python",
   "nbconvert_exporter": "python",
   "pygments_lexer": "ipython3",
   "version": "3.8.16"
  }
 },
 "nbformat": 4,
 "nbformat_minor": 5
}
